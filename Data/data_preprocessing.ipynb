{
 "cells": [
  {
   "cell_type": "markdown",
   "metadata": {},
   "source": [
    "# Libraries + function declaration"
   ]
  },
  {
   "cell_type": "code",
   "execution_count": 130,
   "metadata": {},
   "outputs": [],
   "source": [
    "# For data preprocessing, aggregation.\n",
    "import xmltodict # XML parser.\n",
    "import json\n",
    "import pandas as pd # To manage dataframes.\n",
    "from bs4 import BeautifulSoup # HTML parser used to strip HTML from Posts.\n",
    "import math\n",
    "\n",
    "# For data scraping.\n",
    "from requests.sessions import Session\n",
    "import requests\n",
    "import scrape # Scaper from Wikipedia.\n",
    "\n",
    "def xml_to_data_frame(file_path: str) -> pd.DataFrame:\n",
    "    with open(file_path, 'r', encoding=\"utf8\") as f:\n",
    "        dict = xmltodict.parse(f.read())\n",
    "    \n",
    "    key = list(dict)[0] # Get variable key.\n",
    "    data = dict[key]['row'] # Used to access the data itself.\n",
    "    df = pd.DataFrame.from_dict(data)\n",
    "\n",
    "    print(f\"\\\"{key}\\\" file successfully read and converted to dataframe.\\n\" + \n",
    "        f\"Number of rows: {df.shape[0]}\\n************************\\n\")\n",
    "    \n",
    "    return df\n",
    "\n",
    "def strip_html(text: str):\n",
    "    if isinstance(text, float):\n",
    "        return text\n",
    "        \n",
    "    return BeautifulSoup(text, \"lxml\").text\n",
    "\n",
    "def process_tags(tag):\n",
    "    \"\"\" Tag format:\n",
    "        * <tag 1><tag 2>...<tag N> IF N tags (str type)\n",
    "        * nan IF 0 tags (float type)\n",
    "\n",
    "        Returns empty list if there are no tags\n",
    "        and a list of tags otherwise.\n",
    "    \"\"\"\n",
    "    tags = []\n",
    "    if isinstance(tag, float):\n",
    "        return tags\n",
    "    \n",
    "    # Find open and closing bracket, add tag to list\n",
    "    # <database-theory><relational-algebra>\n",
    "    for t in tag.split(\">\"):\n",
    "        tags.append(t[1:])\n",
    "\n",
    "    return del tags[-1]\n",
    "    "
   ]
  },
  {
   "cell_type": "markdown",
   "metadata": {},
   "source": [
    "# Manual data cleaning & aggreation\n",
    "Each dataset has to be manually processed.\n",
    "\n",
    "\n",
    "## 1/5 - Comments"
   ]
  },
  {
   "cell_type": "code",
   "execution_count": 121,
   "metadata": {},
   "outputs": [
    {
     "name": "stdout",
     "output_type": "stream",
     "text": [
      "\"comments\" file successfully read and converted to dataframe.\n",
      "Number of rows: 174347\n",
      "************************\n",
      "\n"
     ]
    }
   ],
   "source": [
    "df_comments = xml_to_data_frame('Datasets/Comments.xml')"
   ]
  },
  {
   "cell_type": "code",
   "execution_count": 122,
   "metadata": {},
   "outputs": [
    {
     "data": {
      "text/plain": [
       "Index(['@Id', '@PostId', '@Score', '@Text', '@CreationDate', '@UserId',\n",
       "       '@ContentLicense', '@UserDisplayName'],\n",
       "      dtype='object')"
      ]
     },
     "execution_count": 122,
     "metadata": {},
     "output_type": "execute_result"
    }
   ],
   "source": [
    "df_comments.columns"
   ]
  },
  {
   "cell_type": "code",
   "execution_count": 123,
   "metadata": {},
   "outputs": [
    {
     "data": {
      "text/html": [
       "<div>\n",
       "<style scoped>\n",
       "    .dataframe tbody tr th:only-of-type {\n",
       "        vertical-align: middle;\n",
       "    }\n",
       "\n",
       "    .dataframe tbody tr th {\n",
       "        vertical-align: top;\n",
       "    }\n",
       "\n",
       "    .dataframe thead th {\n",
       "        text-align: right;\n",
       "    }\n",
       "</style>\n",
       "<table border=\"1\" class=\"dataframe\">\n",
       "  <thead>\n",
       "    <tr style=\"text-align: right;\">\n",
       "      <th></th>\n",
       "      <th>id</th>\n",
       "      <th>postId</th>\n",
       "      <th>text</th>\n",
       "      <th>userId</th>\n",
       "    </tr>\n",
       "  </thead>\n",
       "  <tbody>\n",
       "    <tr>\n",
       "      <th>0</th>\n",
       "      <td>8</td>\n",
       "      <td>2</td>\n",
       "      <td>To show that they have the same expressive pow...</td>\n",
       "      <td>10</td>\n",
       "    </tr>\n",
       "  </tbody>\n",
       "</table>\n",
       "</div>"
      ],
      "text/plain": [
       "  id postId                                               text userId\n",
       "0  8      2  To show that they have the same expressive pow...     10"
      ]
     },
     "execution_count": 123,
     "metadata": {},
     "output_type": "execute_result"
    }
   ],
   "source": [
    "# We only want to keep Id, PostId, Text and UserId\n",
    "df_comments = df_comments.reindex(columns=[\"@Id\", \"@PostId\", \"@Text\",\"@UserId\"])\n",
    "\n",
    "# Renaming of the columns\n",
    "df_comments = df_comments.rename(columns={\"@Id\": \"id\", \"@PostId\": \"postId\", \"@Text\": \"text\", \"@UserId\": \"userId\"})\n",
    "\n",
    "df_comments.head(1)"
   ]
  },
  {
   "cell_type": "code",
   "execution_count": 124,
   "metadata": {},
   "outputs": [
    {
     "name": "stdout",
     "output_type": "stream",
     "text": [
      "Comments dataset succesfully converted to JSON!\n"
     ]
    }
   ],
   "source": [
    "# Finally, write into json\n",
    "df_json = df_comments.to_json(orient=\"records\")\n",
    "parsed = json.loads(df_json)\n",
    "\n",
    "with open(\"Datasets/comments.json\", \"w\", encoding=\"utf-8\") as f:\n",
    "    json.dump(parsed, f, indent=4)\n",
    "    print(\"Comments dataset successfully converted to JSON!\")"
   ]
  },
  {
   "cell_type": "markdown",
   "metadata": {},
   "source": [
    "---\n",
    "## 2/5 - Posts"
   ]
  },
  {
   "cell_type": "code",
   "execution_count": 131,
   "metadata": {},
   "outputs": [
    {
     "name": "stdout",
     "output_type": "stream",
     "text": [
      "\"posts\" file successfully read and converted to dataframe.\n",
      "Number of rows: 92896\n",
      "************************\n",
      "\n"
     ]
    }
   ],
   "source": [
    "df_posts = xml_to_data_frame('Datasets/Posts.xml')"
   ]
  },
  {
   "cell_type": "code",
   "execution_count": 132,
   "metadata": {},
   "outputs": [
    {
     "data": {
      "text/plain": [
       "Index(['@Id', '@PostTypeId', '@AcceptedAnswerId', '@CreationDate', '@Score',\n",
       "       '@ViewCount', '@Body', '@OwnerUserId', '@LastEditorUserId',\n",
       "       '@LastEditDate', '@LastActivityDate', '@Title', '@Tags', '@AnswerCount',\n",
       "       '@CommentCount', '@FavoriteCount', '@ContentLicense', '@ParentId',\n",
       "       '@OwnerDisplayName', '@ClosedDate', '@LastEditorDisplayName',\n",
       "       '@CommunityOwnedDate'],\n",
       "      dtype='object')"
      ]
     },
     "execution_count": 132,
     "metadata": {},
     "output_type": "execute_result"
    }
   ],
   "source": [
    "df_posts.columns"
   ]
  },
  {
   "cell_type": "code",
   "execution_count": 133,
   "metadata": {},
   "outputs": [
    {
     "data": {
      "text/html": [
       "<div>\n",
       "<style scoped>\n",
       "    .dataframe tbody tr th:only-of-type {\n",
       "        vertical-align: middle;\n",
       "    }\n",
       "\n",
       "    .dataframe tbody tr th {\n",
       "        vertical-align: top;\n",
       "    }\n",
       "\n",
       "    .dataframe thead th {\n",
       "        text-align: right;\n",
       "    }\n",
       "</style>\n",
       "<table border=\"1\" class=\"dataframe\">\n",
       "  <thead>\n",
       "    <tr style=\"text-align: right;\">\n",
       "      <th></th>\n",
       "      <th>id</th>\n",
       "      <th>postTypeId</th>\n",
       "      <th>acceptedAnswerId</th>\n",
       "      <th>creationDate</th>\n",
       "      <th>score</th>\n",
       "      <th>viewCount</th>\n",
       "      <th>body</th>\n",
       "      <th>ownerUserId</th>\n",
       "      <th>title</th>\n",
       "      <th>tags</th>\n",
       "      <th>parentId</th>\n",
       "    </tr>\n",
       "  </thead>\n",
       "  <tbody>\n",
       "    <tr>\n",
       "      <th>0</th>\n",
       "      <td>2</td>\n",
       "      <td>1</td>\n",
       "      <td>28</td>\n",
       "      <td>2012-03-06T19:06:05.667</td>\n",
       "      <td>19</td>\n",
       "      <td>1128</td>\n",
       "      <td>The set difference operator (e.g., EXCEPT in s...</td>\n",
       "      <td>5</td>\n",
       "      <td>Does the 'difference' operation add expressive...</td>\n",
       "      <td>&lt;database-theory&gt;&lt;relational-algebra&gt;&lt;finite-m...</td>\n",
       "      <td>NaN</td>\n",
       "    </tr>\n",
       "  </tbody>\n",
       "</table>\n",
       "</div>"
      ],
      "text/plain": [
       "  id postTypeId acceptedAnswerId             creationDate score viewCount  \\\n",
       "0  2          1               28  2012-03-06T19:06:05.667    19      1128   \n",
       "\n",
       "                                                body ownerUserId  \\\n",
       "0  The set difference operator (e.g., EXCEPT in s...           5   \n",
       "\n",
       "                                               title  \\\n",
       "0  Does the 'difference' operation add expressive...   \n",
       "\n",
       "                                                tags parentId  \n",
       "0  <database-theory><relational-algebra><finite-m...      NaN  "
      ]
     },
     "execution_count": 133,
     "metadata": {},
     "output_type": "execute_result"
    }
   ],
   "source": [
    "\"\"\" We want to keep Id, PostTypeId, AcceptedAnswerId, CreationDate, Score,\n",
    "        ViewCount, Body, OwnerUserId, Title, Tags, ParentId\n",
    "\"\"\"\n",
    "df_posts = df_posts.reindex(columns=['@Id', '@PostTypeId', '@AcceptedAnswerId', '@CreationDate', '@Score',\n",
    "       '@ViewCount', '@Body', '@OwnerUserId', '@Title', '@Tags','@ParentId'])\n",
    "\n",
    "# Renaming of the columns\n",
    "df_posts = df_posts.rename(columns={\"@Id\": \"id\", \"@PostTypeId\": \"postTypeId\",\n",
    "        '@AcceptedAnswerId': 'acceptedAnswerId', '@CreationDate': 'creationDate',\n",
    "        '@Score': 'score', '@ViewCount': 'viewCount','@Body': 'body', '@OwnerUserId':'ownerUserId',\n",
    "        '@Title':'title', '@Tags':'tags','@ParentId':'parentId'})\n",
    "\n",
    "\n",
    "# Strip the HTML formating from title and body:\n",
    "df_posts['title'] = df_posts['title'].apply(lambda x: strip_html(x))\n",
    "df_posts['body'] = df_posts['body'].apply(lambda x: strip_html(x))\n",
    "\n",
    "\n",
    "\n",
    "df_posts.head(1)"
   ]
  },
  {
   "cell_type": "code",
   "execution_count": 134,
   "metadata": {},
   "outputs": [
    {
     "data": {
      "text/html": [
       "<div>\n",
       "<style scoped>\n",
       "    .dataframe tbody tr th:only-of-type {\n",
       "        vertical-align: middle;\n",
       "    }\n",
       "\n",
       "    .dataframe tbody tr th {\n",
       "        vertical-align: top;\n",
       "    }\n",
       "\n",
       "    .dataframe thead th {\n",
       "        text-align: right;\n",
       "    }\n",
       "</style>\n",
       "<table border=\"1\" class=\"dataframe\">\n",
       "  <thead>\n",
       "    <tr style=\"text-align: right;\">\n",
       "      <th></th>\n",
       "      <th>id</th>\n",
       "      <th>postTypeId</th>\n",
       "      <th>acceptedAnswerId</th>\n",
       "      <th>creationDate</th>\n",
       "      <th>score</th>\n",
       "      <th>viewCount</th>\n",
       "      <th>body</th>\n",
       "      <th>ownerUserId</th>\n",
       "      <th>title</th>\n",
       "      <th>tags</th>\n",
       "      <th>parentId</th>\n",
       "    </tr>\n",
       "  </thead>\n",
       "  <tbody>\n",
       "    <tr>\n",
       "      <th>0</th>\n",
       "      <td>2</td>\n",
       "      <td>1</td>\n",
       "      <td>28</td>\n",
       "      <td>2012-03-06T19:06:05.667</td>\n",
       "      <td>19</td>\n",
       "      <td>1128</td>\n",
       "      <td>The set difference operator (e.g., EXCEPT in s...</td>\n",
       "      <td>5</td>\n",
       "      <td>Does the 'difference' operation add expressive...</td>\n",
       "      <td>[database-theory, relational-algebra, finite-m...</td>\n",
       "      <td>NaN</td>\n",
       "    </tr>\n",
       "  </tbody>\n",
       "</table>\n",
       "</div>"
      ],
      "text/plain": [
       "  id postTypeId acceptedAnswerId             creationDate score viewCount  \\\n",
       "0  2          1               28  2012-03-06T19:06:05.667    19      1128   \n",
       "\n",
       "                                                body ownerUserId  \\\n",
       "0  The set difference operator (e.g., EXCEPT in s...           5   \n",
       "\n",
       "                                               title  \\\n",
       "0  Does the 'difference' operation add expressive...   \n",
       "\n",
       "                                                tags parentId  \n",
       "0  [database-theory, relational-algebra, finite-m...      NaN  "
      ]
     },
     "execution_count": 134,
     "metadata": {},
     "output_type": "execute_result"
    }
   ],
   "source": [
    "# Tags should be in list format\n",
    "# type(df_posts['tags'][3]) # nan type -> float\n",
    "# type(df_posts['tags'])[0] # tags type -> str\n",
    "\n",
    "df_posts['tags'] = df_posts['tags'].apply(lambda x: process_tags(x))\n",
    "\n",
    "df_posts.head(1)"
   ]
  },
  {
   "cell_type": "code",
   "execution_count": 135,
   "metadata": {},
   "outputs": [
    {
     "name": "stdout",
     "output_type": "stream",
     "text": [
      "Posts dataset successfully converted to JSON!\n"
     ]
    }
   ],
   "source": [
    "# Finally, write into json\n",
    "df_json = df_posts.to_json(orient=\"records\")\n",
    "parsed = json.loads(df_json)\n",
    "\n",
    "with open(\"Datasets/posts.json\", \"w\", encoding=\"utf-8\") as f:\n",
    "    json.dump(parsed, f, indent=4)\n",
    "    print(\"Posts dataset successfully converted to JSON!\")"
   ]
  },
  {
   "cell_type": "markdown",
   "metadata": {},
   "source": [
    "---\n",
    "## 3/5 - Tags"
   ]
  },
  {
   "cell_type": "code",
   "execution_count": 104,
   "metadata": {},
   "outputs": [
    {
     "name": "stdout",
     "output_type": "stream",
     "text": [
      "\"tags\" file successfully read and converted to dataframe.\n",
      "Number of rows: 637\n",
      "************************\n",
      "\n"
     ]
    }
   ],
   "source": [
    "df_tags = xml_to_data_frame('Datasets/Tags.xml')"
   ]
  },
  {
   "cell_type": "code",
   "execution_count": 105,
   "metadata": {},
   "outputs": [
    {
     "data": {
      "text/plain": [
       "Index(['@Id', '@TagName', '@Count', '@ExcerptPostId', '@WikiPostId'], dtype='object')"
      ]
     },
     "execution_count": 105,
     "metadata": {},
     "output_type": "execute_result"
    }
   ],
   "source": [
    "df_tags.columns"
   ]
  },
  {
   "cell_type": "code",
   "execution_count": 106,
   "metadata": {},
   "outputs": [
    {
     "data": {
      "text/html": [
       "<div>\n",
       "<style scoped>\n",
       "    .dataframe tbody tr th:only-of-type {\n",
       "        vertical-align: middle;\n",
       "    }\n",
       "\n",
       "    .dataframe tbody tr th {\n",
       "        vertical-align: top;\n",
       "    }\n",
       "\n",
       "    .dataframe thead th {\n",
       "        text-align: right;\n",
       "    }\n",
       "</style>\n",
       "<table border=\"1\" class=\"dataframe\">\n",
       "  <thead>\n",
       "    <tr style=\"text-align: right;\">\n",
       "      <th></th>\n",
       "      <th>id</th>\n",
       "      <th>tagName</th>\n",
       "      <th>description</th>\n",
       "    </tr>\n",
       "  </thead>\n",
       "  <tbody>\n",
       "    <tr>\n",
       "      <th>0</th>\n",
       "      <td>1</td>\n",
       "      <td>cpu-pipelines</td>\n",
       "      <td></td>\n",
       "    </tr>\n",
       "  </tbody>\n",
       "</table>\n",
       "</div>"
      ],
      "text/plain": [
       "  id        tagName description\n",
       "0  1  cpu-pipelines            "
      ]
     },
     "execution_count": 106,
     "metadata": {},
     "output_type": "execute_result"
    }
   ],
   "source": [
    "# We only want to keep Id and TagName\n",
    "df_tags = df_tags.reindex(columns=[\"@Id\", \"@TagName\"])\n",
    "\n",
    "# Renaming of the columns\n",
    "df_tags = df_tags.rename(columns={\"@Id\": \"id\", \"@TagName\": \"tagName\"})\n",
    "\n",
    "df_tags.head(1)"
   ]
  },
  {
   "cell_type": "code",
   "execution_count": 112,
   "metadata": {},
   "outputs": [
    {
     "name": "stdout",
     "output_type": "stream",
     "text": [
      "0      In computing, a pipeline, also known as a data...\n",
      "1      A compile farm is a server farm, a collection ...\n",
      "2      Database theory encapsulates a broad range of ...\n",
      "3      In mathematics and computer science, an algori...\n",
      "4      In computer engineering, computer architecture...\n",
      "                             ...                        \n",
      "632    Differential privacy (DP) is a system for publ...\n",
      "633    Russell Irving Tamblyn, also known as Rusty Ta...\n",
      "634                              Monad may refer to:\\n\\n\n",
      "635    No description has been found on Wikipedia, pl...\n",
      "636    Metric or metrical may refer to:\\n\\nMetric sys...\n",
      "Name: tagName, Length: 637, dtype: object\n"
     ]
    }
   ],
   "source": [
    "# Aggregate descriptions scraped from Wikipedia.\n",
    "# For that purpose, the scrape.py script is used.\n",
    "\n",
    "\n",
    "with requests.Session() as s:\n",
    "    #d = scrape.get_description(df_tags['tagName'][0], s)\n",
    "    df_tags['description'] = df_tags['tagName'].apply(scrape.get_description, session=s)\n"
   ]
  },
  {
   "cell_type": "code",
   "execution_count": 117,
   "metadata": {},
   "outputs": [
    {
     "data": {
      "text/html": [
       "<div>\n",
       "<style scoped>\n",
       "    .dataframe tbody tr th:only-of-type {\n",
       "        vertical-align: middle;\n",
       "    }\n",
       "\n",
       "    .dataframe tbody tr th {\n",
       "        vertical-align: top;\n",
       "    }\n",
       "\n",
       "    .dataframe thead th {\n",
       "        text-align: right;\n",
       "    }\n",
       "</style>\n",
       "<table border=\"1\" class=\"dataframe\">\n",
       "  <thead>\n",
       "    <tr style=\"text-align: right;\">\n",
       "      <th></th>\n",
       "      <th>id</th>\n",
       "      <th>tagName</th>\n",
       "      <th>description</th>\n",
       "    </tr>\n",
       "  </thead>\n",
       "  <tbody>\n",
       "    <tr>\n",
       "      <th>0</th>\n",
       "      <td>1</td>\n",
       "      <td>cpu-pipelines</td>\n",
       "      <td>In computing, a pipeline, also known as a data...</td>\n",
       "    </tr>\n",
       "  </tbody>\n",
       "</table>\n",
       "</div>"
      ],
      "text/plain": [
       "  id        tagName                                        description\n",
       "0  1  cpu-pipelines  In computing, a pipeline, also known as a data..."
      ]
     },
     "execution_count": 117,
     "metadata": {},
     "output_type": "execute_result"
    }
   ],
   "source": [
    "df_tags.head(1)"
   ]
  },
  {
   "cell_type": "markdown",
   "metadata": {},
   "source": [
    "---\n",
    "## 4/5 - Users"
   ]
  },
  {
   "cell_type": "code",
   "execution_count": null,
   "metadata": {},
   "outputs": [],
   "source": []
  },
  {
   "cell_type": "markdown",
   "metadata": {},
   "source": [
    "---\n",
    "## 5/5 - Votes"
   ]
  },
  {
   "cell_type": "code",
   "execution_count": null,
   "metadata": {},
   "outputs": [],
   "source": []
  },
  {
   "cell_type": "markdown",
   "metadata": {},
   "source": [
    "---\n",
    "## Testing"
   ]
  },
  {
   "cell_type": "code",
   "execution_count": 17,
   "metadata": {},
   "outputs": [
    {
     "name": "stdout",
     "output_type": "stream",
     "text": [
      "\"comments\" file successfully read and converted to dataframe.\n",
      "Number of rows:174347\n",
      "************************\n",
      "\n",
      "\"posts\" file successfully read and converted to dataframe.\n",
      "Number of rows:92896\n",
      "************************\n",
      "\n",
      "\"tags\" file successfully read and converted to dataframe.\n",
      "Number of rows:637\n",
      "************************\n",
      "\n",
      "\"users\" file successfully read and converted to dataframe.\n",
      "Number of rows:119115\n",
      "************************\n",
      "\n",
      "\"votes\" file successfully read and converted to dataframe.\n",
      "Number of rows:399089\n",
      "************************\n",
      "\n"
     ]
    }
   ],
   "source": [
    "# For testing purpouses.\n",
    "# WORKS.\n",
    "# 18.6 secons to execute.\n",
    "def test_xml_reading():\n",
    "    list_of_xml = [\n",
    "    'Datasets/Comments.xml',\n",
    "    'Datasets/Posts.xml',\n",
    "    'Datasets/Tags.xml',\n",
    "    'Datasets/Users.xml',\n",
    "    'Datasets/Votes.xml'\n",
    "    ]\n",
    "\n",
    "    for file in list_of_xml:\n",
    "        xml_to_data_frame(file)\n",
    "\n",
    "test_xml_reading()"
   ]
  },
  {
   "cell_type": "code",
   "execution_count": 85,
   "metadata": {},
   "outputs": [
    {
     "data": {
      "text/html": [
       "<div>\n",
       "<style scoped>\n",
       "    .dataframe tbody tr th:only-of-type {\n",
       "        vertical-align: middle;\n",
       "    }\n",
       "\n",
       "    .dataframe tbody tr th {\n",
       "        vertical-align: top;\n",
       "    }\n",
       "\n",
       "    .dataframe thead th {\n",
       "        text-align: right;\n",
       "    }\n",
       "</style>\n",
       "<table border=\"1\" class=\"dataframe\">\n",
       "  <thead>\n",
       "    <tr style=\"text-align: right;\">\n",
       "      <th></th>\n",
       "      <th>col1</th>\n",
       "      <th>col2</th>\n",
       "    </tr>\n",
       "  </thead>\n",
       "  <tbody>\n",
       "    <tr>\n",
       "      <th>0</th>\n",
       "      <td>{'a': 'a'}</td>\n",
       "      <td>3</td>\n",
       "    </tr>\n",
       "    <tr>\n",
       "      <th>1</th>\n",
       "      <td>{'b': 'b'}</td>\n",
       "      <td>4</td>\n",
       "    </tr>\n",
       "  </tbody>\n",
       "</table>\n",
       "</div>"
      ],
      "text/plain": [
       "         col1  col2\n",
       "0  {'a': 'a'}     3\n",
       "1  {'b': 'b'}     4"
      ]
     },
     "execution_count": 85,
     "metadata": {},
     "output_type": "execute_result"
    }
   ],
   "source": [
    "# Dictionary as value in pandas.Dataframe\n",
    "d = {'col1': [{'a':'a'},{'b':'b'}], 'col2': [3, 4]}\n",
    "df = pd.DataFrame(data=d)\n",
    "\n",
    "# Encontrar valor del tag en dataframe con .where!"
   ]
  }
 ],
 "metadata": {
  "interpreter": {
   "hash": "1136484b14b640bc92a741468fef70e605cd3454f76349c2dcd7ac77dee3e181"
  },
  "kernelspec": {
   "display_name": "Python 3.8.5 64-bit (system)",
   "language": "python",
   "name": "python3"
  },
  "language_info": {
   "codemirror_mode": {
    "name": "ipython",
    "version": 3
   },
   "file_extension": ".py",
   "mimetype": "text/x-python",
   "name": "python",
   "nbconvert_exporter": "python",
   "pygments_lexer": "ipython3",
   "version": "3.8.5"
  },
  "orig_nbformat": 4
 },
 "nbformat": 4,
 "nbformat_minor": 2
}
